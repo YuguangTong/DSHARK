{
 "cells": [
  {
   "cell_type": "code",
   "execution_count": 47,
   "metadata": {},
   "outputs": [
    {
     "name": "stdout",
     "output_type": "stream",
     "text": [
      "The autoreload extension is already loaded. To reload it, use:\n",
      "  %reload_ext autoreload\n"
     ]
    }
   ],
   "source": [
    "import numpy as np\n",
    "import scipy.optimize\n",
    "from py_vlasov.util import zp, kzkp, list_to_complex, real_imag\n",
    "from py_vlasov.wrapper import oblique_wrapper, disp_det, input_gen\n",
    "from py_vlasov.transport_ratios import transport_ratios\n",
    "from py_vlasov.follow_parameter import follow_k\n",
    "import matplotlib.pyplot as plt\n",
    "import matplotlib as mpl\n",
    "from util import (\n",
    "    gen_input_file_text,\n",
    "    get_wave_number, \n",
    "    get_initial_guess, \n",
    "    get_setup, \n",
    "    get_accuracy, \n",
    "    get_species,\n",
    "    write_input_data,\n",
    "    read_disp_data,\n",
    ")\n",
    "import subprocess\n",
    "\n",
    "mpl.rcParams['axes.labelsize'] = 20\n",
    "mpl.rcParams['xtick.labelsize'] = 16\n",
    "mpl.rcParams['ytick.labelsize'] = 16\n",
    "mpl.rcParams['axes.titlesize'] = 20\n",
    "mpl.rcParams['xtick.top'] = True\n",
    "mpl.rcParams['ytick.right'] = True\n",
    "mpl.rcParams['xtick.major.size'] = 6\n",
    "mpl.rcParams['ytick.major.size'] = 6\n",
    "mpl.rcParams['xtick.minor.size'] = 3.5\n",
    "mpl.rcParams['ytick.minor.size'] = 3.5\n",
    "mpl.rcParams['xtick.major.width'] = 1.1\n",
    "mpl.rcParams['ytick.major.width'] = 1.1\n",
    "mpl.rcParams['xtick.minor.width'] = .8\n",
    "mpl.rcParams['ytick.minor.width'] = .8\n",
    "mpl.rcParams['legend.fontsize'] = 14\n",
    "#xtick.major.size     : 3.5      # major tick size in points\n",
    "#xtick.minor.size     : 2      # minor tick size in points\n",
    "#xtick.major.width    : 0.8    # major tick width in points\n",
    "#xtick.minor.width    : 0.6    # minor tick width in points\n",
    "\n",
    "%load_ext autoreload\n",
    "%autoreload 2\n",
    "%matplotlib inline"
   ]
  },
  {
   "cell_type": "code",
   "execution_count": 2,
   "metadata": {},
   "outputs": [],
   "source": [
    "def fast_freq_fn(k, theta, betap):\n",
    "    kz, kp = kzkp(k, theta)\n",
    "    cos_theta = kz / k\n",
    "    kdi = k / np.sqrt(betap)\n",
    "    return kdi * np.sqrt(1 + kdi**2 * cos_theta**2)\n",
    "\n",
    "def ea_freq_fn(k, theta, aol, the_tp, nc_nh):\n",
    "    kz, kp = kzkp(k, theta)\n",
    "    mp_me = 1836\n",
    "    num = kz * np.sqrt(0.5 * nc_nh/(1+nc_nh) * the_tp * mp_me)\n",
    "    k_rhose_2 = kp**2 * 0.5 * nc_nh/(1+nc_nh) * the_tp / mp_me\n",
    "    kp_debye_2 = (kz**2+kp**2) * 0.5 * aol**2 * the_tp\n",
    "    denom = np.sqrt(1 + k_rhose_2 + kp_debye_2)\n",
    "    print(denom)\n",
    "    return num / denom\n",
    "\n",
    "def kdi_2_krhoi(kdi, betap):\n",
    "    return kdi * np.sqrt(betap)"
   ]
  },
  {
   "cell_type": "markdown",
   "metadata": {},
   "source": [
    "# my own solver"
   ]
  },
  {
   "cell_type": "code",
   "execution_count": 8,
   "metadata": {},
   "outputs": [
    {
     "name": "stdout",
     "output_type": "stream",
     "text": [
      "aol = 0.005835\n",
      "beta_p = 0.0119\n",
      "beta_e = 0.715\n"
     ]
    }
   ],
   "source": [
    "theta = 5.\n",
    "wpe_wce = 4\n",
    "th_tp = 60\n",
    "fac = 0.6\n",
    "\n",
    "# ===============\n",
    "\n",
    "aol = 1/np.sqrt(1836)/wpe_wce\n",
    "betap = 1/th_tp * np.cos(np.deg2rad(theta))**2 * 2* fac**2\n",
    "\n",
    "print('aol = {0:.4g}'.format(aol))\n",
    "print('beta_p = {0:.3g}'.format(betap))\n",
    "print('beta_e = {0:.3g}'.format(betap * th_tp))"
   ]
  },
  {
   "cell_type": "code",
   "execution_count": 119,
   "metadata": {},
   "outputs": [
    {
     "name": "stdout",
     "output_type": "stream",
     "text": [
      "target kdi = 129\n"
     ]
    }
   ],
   "source": [
    "tc_th = 1/900\n",
    "nh_n0 = 0.65\n",
    "\n",
    "t_list=[1., th_tp, th_tp * tc_th]\n",
    "a_list=[1., 2, 1.]\n",
    "n_list=[1., nh_n0, 1-nh_n0] \n",
    "q_list=[1.,-1., -1.]\n",
    "m_list=[1., 1./1836., 1./1836]\n",
    "v_list=[0.,0.,0.]\n",
    "n = 15\n",
    "method = 'pade'\n",
    "\n",
    "kdi = 10\n",
    "\n",
    "target_kde = 3.\n",
    "target_kdi = target_kde * np.sqrt(1836)\n",
    "print('target kdi = {0:.3g}'.format(target_kdi))\n",
    "\n",
    "k = kdi_2_krhoi(kdi, betap)\n",
    "kz, kp = kzkp(k, theta)\n",
    "\n",
    "param = [kz, kp, betap, t_list, a_list, n_list, q_list,\n",
    "         m_list, v_list, n, method, aol]"
   ]
  },
  {
   "cell_type": "code",
   "execution_count": 120,
   "metadata": {},
   "outputs": [
    {
     "name": "stdout",
     "output_type": "stream",
     "text": [
      "1.0006337569223782\n",
      "ea_seed_freq = 151-75.4j\n",
      "wr = 152\n",
      "wi = -64.9\n",
      "wr/wce/cos(theta) = 0.0833\n"
     ]
    }
   ],
   "source": [
    "target_k = kdi_2_krhoi(target_kdi, betap)\n",
    "\n",
    "# ELECTRON ACOUSTIC MODE\n",
    "\n",
    "ea_seed_freq = ea_freq_fn(k, theta, aol, the_tp, nc_nh=n_list[2]/n_list[1])\n",
    "f = lambda wrel:\\\n",
    "    real_imag(disp_det(list_to_complex(wrel), kz, kp, betap,\n",
    "                              t_list, a_list, n_list, q_list, \\\n",
    "                              m_list, v_list, method = 'numpy', n = 6, \\\n",
    "                              aol=aol))\n",
    "ea_guess = ea_seed_freq * (1-.5j)\n",
    "\n",
    "print('ea_seed_freq = {0:.3g}'.format(ea_guess))\n",
    "\n",
    "wr, wi = scipy.optimize.fsolve(f, real_imag(ea_guess))\n",
    "\n",
    "print('wr = {0:.3g}'.format(wr))\n",
    "print('wi = {0:.3g}'.format(wi))\n",
    "print(r'wr/wce/cos(theta) = {0:.3g}'.format(wr/1836/np.cos(np.deg2rad(theta))))\n",
    "\n",
    "ea_freq = follow_k(ea_guess, target_k, param,\n",
    "                log_incrmt = 0.02, incrmt_method = 'log')"
   ]
  },
  {
   "cell_type": "markdown",
   "metadata": {},
   "source": [
    "## DSHARK"
   ]
  },
  {
   "cell_type": "code",
   "execution_count": 114,
   "metadata": {},
   "outputs": [],
   "source": [
    "input_params = {}\n",
    "input_params['kstart'] = 10\n",
    "input_params['kend'] = 80\n",
    "input_params['nk'] = 110\n",
    "input_params['nspecies'] = 3\n",
    "input_params['theta'] = 5\n",
    "input_params['q_in'] = np.array([1., -1., -1.])\n",
    "input_params['mu_in'] = np.array([1., 1836., 1836.])\n",
    "input_params['dens_in'] = np.array([1., .65, .35])\n",
    "vdc_va = 0.\n",
    "input_params['drift_in'] = np.array([\n",
    "    0., vdc_va, \n",
    "    -input_params['dens_in'][1]/input_params['dens_in'][2]*vdc_va\n",
    "])\n",
    "t_in = np.array([1, 60, 1/15])\n",
    "beta_0 = 0.0119\n",
    "a = np.array([1.0, 2., 1.0])\n",
    "input_params['beta_para_in'] = beta_0 * t_in * input_params['dens_in'] \n",
    "input_params['beta_perp_in'] = beta_0 * t_in * input_params['dens_in'] * np.array(a)\n",
    "input_params['kappa_in'] = np.array([50, 50, 50])\n",
    "input_params['delta'] = 0.005835\n",
    "\n",
    "input_params['omega_r'] = 150\n",
    "input_params['omega_i'] = -65\n",
    "input_params['increment_r'] = 0 \n",
    "input_params['increment_i'] = 0"
   ]
  },
  {
   "cell_type": "code",
   "execution_count": 109,
   "metadata": {},
   "outputs": [],
   "source": [
    "input_file_text = gen_input_file_text(input_params)\n",
    "write_input_data(input_file_text)\n",
    "subprocess.run([\"./dsolve\"])\n",
    "dshark_ea = read_disp_data()"
   ]
  },
  {
   "cell_type": "markdown",
   "metadata": {},
   "source": [
    "### whistler"
   ]
  },
  {
   "cell_type": "code",
   "execution_count": 115,
   "metadata": {},
   "outputs": [],
   "source": [
    "whistler_input_params = input_params.copy()\n",
    "kdi = whistler_input_params['kstart']\n",
    "cos_theta = np.cos(np.deg2rad(whistler_input_params['theta']))\n",
    "whistler_input_params['omega_r'] = kdi * np.sqrt(1 + kdi**2 * cos_theta**2)\n",
    "whistler_input_params['omega_i'] = 0"
   ]
  },
  {
   "cell_type": "code",
   "execution_count": 116,
   "metadata": {},
   "outputs": [],
   "source": [
    "input_file_text = gen_input_file_text(whistler_input_params)\n",
    "write_input_data(input_file_text)\n",
    "subprocess.run([\"./dsolve\"])\n",
    "dshark_whistler = read_disp_data()"
   ]
  },
  {
   "cell_type": "code",
   "execution_count": 97,
   "metadata": {},
   "outputs": [],
   "source": [
    "# print(input_file_text)"
   ]
  },
  {
   "cell_type": "markdown",
   "metadata": {},
   "source": [
    "## Plot figure"
   ]
  },
  {
   "cell_type": "code",
   "execution_count": 112,
   "metadata": {},
   "outputs": [],
   "source": [
    "kde_start = kdi / np.sqrt(1836)\n",
    "kde_end = np.sqrt(ea_freq[1][0]**2 + ea_freq[1][1]**2) /np.sqrt(1836) / np.sqrt(betap)\n",
    "ea_freq_arr = np.array(ea_freq[-1])\n",
    "kde_list = np.logspace(np.log10(kde_start), np.log10(kde_end), len(ea_freq_arr))"
   ]
  },
  {
   "cell_type": "code",
   "execution_count": 121,
   "metadata": {},
   "outputs": [
    {
     "data": {
      "image/png": "[encoded data removed]",
      "text/plain": [
       "<Figure size 432x576 with 2 Axes>"
      ]
     },
     "metadata": {},
     "output_type": "display_data"
    }
   ],
   "source": [
    "plt.figure(figsize=[6, 8])\n",
    "\n",
    "plt.subplot(211)\n",
    "plt.plot(kde_list, ea_freq_arr.real/1836/np.cos(np.deg2rad(theta)), 'r-', label = 'electron acoustic')\n",
    "plt.plot(dshark_ea.k / 43, dshark_ea.wr / 1836, 'b:', label='dshark EA')\n",
    "plt.plot(dshark_whistler.k/43, dshark_whistler.wr/1836, 'g-', label='dshark whistler')\n",
    "# plt.plot(kde_list, whistler_freq_arr.real/1836/np.cos(np.deg2rad(theta)), '.-', label = 'whistler')\n",
    "# plt.plot(kde_whistler, freq_whistler.real)\n",
    "plt.xlabel('$kc/\\omega_{pe}$')\n",
    "plt.ylabel(r'$\\omega_r/\\omega_{ce} \\cos \\theta $')\n",
    "# plt.ylim([0, 1.])\n",
    "plt.xlim([0, 3])\n",
    "plt.legend(frameon=False)\n",
    "\n",
    "plt.subplot(212)\n",
    "plt.plot(kde_list, ea_freq_arr.imag/1836/np.cos(np.deg2rad(theta)), 'r-', label = 'electron acoustic')\n",
    "plt.plot(dshark_whistler.k/43, dshark_whistler.wi/1836, 'g', label='dshark whistler')\n",
    "plt.plot(dshark_ea.k / 43, dshark_ea.wi / 1836, 'b:')\n",
    "plt.xlabel('$kc/\\omega_{pe}$')\n",
    "plt.ylabel(r'$\\omega_i/\\omega_{ce} \\cos \\theta $')\n",
    "\n",
    "plt.tight_layout()"
   ]
  },
  {
   "cell_type": "code",
   "execution_count": null,
   "metadata": {},
   "outputs": [],
   "source": []
  }
 ],
 "metadata": {
  "kernelspec": {
   "display_name": "Python 3.6 (science)",
   "language": "python",
   "name": "science"
  },
  "language_info": {
   "codemirror_mode": {
    "name": "ipython",
    "version": 3
   },
   "file_extension": ".py",
   "mimetype": "text/x-python",
   "name": "python",
   "nbconvert_exporter": "python",
   "pygments_lexer": "ipython3",
   "version": "3.6.5"
  }
 },
 "nbformat": 4,
 "nbformat_minor": 2
}
