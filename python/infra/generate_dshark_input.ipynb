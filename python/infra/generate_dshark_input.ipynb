{
 "cells": [
  {
   "cell_type": "code",
   "execution_count": 67,
   "metadata": {},
   "outputs": [
    {
     "name": "stdout",
     "output_type": "stream",
     "text": [
      "The autoreload extension is already loaded. To reload it, use:\n",
      "  %reload_ext autoreload\n"
     ]
    }
   ],
   "source": [
    "import numpy as np\n",
    "import pandas as pd\n",
    "import matplotlib.pyplot as plt\n",
    "import matplotlib as mpl\n",
    "\n",
    "%load_ext autoreload\n",
    "%autoreload 2\n",
    "%matplotlib inline"
   ]
  },
  {
   "cell_type": "code",
   "execution_count": 19,
   "metadata": {},
   "outputs": [],
   "source": [
    "def get_wave_number(kstart=.1, kend=.4, nk=30):\n",
    "    string = \\\n",
    "f'''\n",
    "&wavenumber\n",
    "kstart = {kstart}\n",
    "kend = {kend}\n",
    "nk = {nk}\n",
    "/\n",
    "'''\n",
    "    return string\n",
    "\n",
    "def get_initial_guess(omega_r=0., omega_i=.013, increment_r=1e-5, increment_i=3e-3):\n",
    "    string = \\\n",
    "f'''\n",
    "&initial_guess\n",
    "omega_r = {omega_r}\n",
    "omega_i = {omega_i}\n",
    "increment_r = {increment_r}\n",
    "increment_i = {increment_i}\n",
    "/\n",
    "'''\n",
    "    return string\n",
    "\n",
    "def get_setup(nspecies=2, theta=45., delta=1e-5):\n",
    "    string = \\\n",
    "f'''\n",
    "&setup\n",
    "Nspecies = {nspecies}\n",
    "theta = {theta}\n",
    "delta = {delta}\n",
    "/\n",
    "'''\n",
    "    return string\n",
    "\n",
    "def get_accuracy(rf_error=1e-3, eps_error=1e-6):\n",
    "    string = \\\n",
    "f'''\n",
    "&accuracy\n",
    "rf_error = {rf_error}\n",
    "eps_error = {eps_error}\n",
    "/\n",
    "'''\n",
    "    return string\n",
    "\n",
    "def get_species(q_in=1., mu_in=1., dens_in=1., drift_in=0., beta_para_in=4., beta_perp_in=2., kappa_in=7.):\n",
    "    string = \\\n",
    "f'''\n",
    "&species\n",
    "q_in = {q_in}\n",
    "mu_in = {mu_in}\n",
    "dens_in = {dens_in}\n",
    "drift_in = {drift_in}\n",
    "beta_para_in = {beta_para_in}\n",
    "beta_perp_in = {beta_perp_in}\n",
    "kappa_in = {kappa_in}\n",
    "/\n",
    "'''\n",
    "    return string\n",
    "\n",
    "def write_input_data(input_file_name=\"input.dat\"):\n",
    "    with open(input_file_name,\"w\") as f:\n",
    "    f.write(input_file_text)\n",
    "    \n",
    "def read_disp_data(dispersion_file_name=\"omega.dat\"):\n",
    "    return pd.read_csv(dispersion_file_name, sep='\\s+', names=['k', 'wr', 'wi'])"
   ]
  },
  {
   "cell_type": "code",
   "execution_count": 50,
   "metadata": {},
   "outputs": [],
   "source": [
    "kstart = .1\n",
    "kend = .4\n",
    "nk = 30\n",
    "omega_r = 0.\n",
    "omega_i = .013\n",
    "\n",
    "nspecies = 2\n",
    "theta = 45\n",
    "\n",
    "q_in = [1., -1.]\n",
    "mu_in = [1., 1836.]\n",
    "dens_in = [1., 1.]\n",
    "drift_in = [0., 0.]\n",
    "beta_para_in = [4., 1.]\n",
    "beta_perp_in = [2., 1.]\n",
    "kappa_in = [7, 200]\n",
    "\n",
    "input_file_text = ''\n",
    "input_file_text += get_wave_number(kstart, kend, nk)\n",
    "input_file_text += get_initial_guess(omega_r=omega_r, omega_i=omega_i)\n",
    "input_file_text += get_setup(nspecies=nspecies, theta=theta)\n",
    "input_file_text += get_accuracy()\n",
    "\n",
    "for j in range(len(q_in)):\n",
    "    input_file_text += get_species(\n",
    "        q_in=q_in[j],\n",
    "        mu_in=mu_in[j],\n",
    "        dens_in=dens_in[j],\n",
    "        drift_in=drift_in[j],\n",
    "        beta_para_in=beta_para_in[j],\n",
    "        beta_perp_in=beta_perp_in[j],\n",
    "        kappa_in=kappa_in[j],\n",
    "    )\n"
   ]
  },
  {
   "cell_type": "code",
   "execution_count": 51,
   "metadata": {},
   "outputs": [],
   "source": []
  },
  {
   "cell_type": "code",
   "execution_count": 1,
   "metadata": {},
   "outputs": [
    {
     "name": "stdout",
     "output_type": "stream",
     "text": [
      "/bin/sh: dsolve: command not found\r\n"
     ]
    }
   ],
   "source": [
    "!dsolve"
   ]
  },
  {
   "cell_type": "code",
   "execution_count": 63,
   "metadata": {},
   "outputs": [],
   "source": [
    "df = pd.read_csv('omega.dat', sep='\\s+', names=['k', 'wr', 'wi'])"
   ]
  },
  {
   "cell_type": "code",
   "execution_count": 68,
   "metadata": {},
   "outputs": [
    {
     "data": {
      "text/plain": [
       "[<matplotlib.lines.Line2D at 0x110ff85f8>]"
      ]
     },
     "execution_count": 68,
     "metadata": {},
     "output_type": "execute_result"
    },
    {
     "data": {
      "image/png": "[encoded data removed]",
      "text/plain": [
       "<Figure size 432x288 with 1 Axes>"
      ]
     },
     "metadata": {},
     "output_type": "display_data"
    }
   ],
   "source": [
    "plt.plot(df.k, df.wi)"
   ]
  },
  {
   "cell_type": "code",
   "execution_count": null,
   "metadata": {},
   "outputs": [],
   "source": []
  }
 ],
 "metadata": {
  "kernelspec": {
   "display_name": "Python 3.6 (science)",
   "language": "python",
   "name": "science"
  },
  "language_info": {
   "codemirror_mode": {
    "name": "ipython",
    "version": 3
   },
   "file_extension": ".py",
   "mimetype": "text/x-python",
   "name": "python",
   "nbconvert_exporter": "python",
   "pygments_lexer": "ipython3",
   "version": "3.6.5"
  }
 },
 "nbformat": 4,
 "nbformat_minor": 2
}
