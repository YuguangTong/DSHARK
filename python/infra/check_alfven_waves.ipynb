{
 "cells": [
  {
   "cell_type": "code",
   "execution_count": 1,
   "metadata": {},
   "outputs": [],
   "source": [
    "import numpy as np\n",
    "import pandas as pd\n",
    "import matplotlib.pyplot as plt\n",
    "import matplotlib as mpl\n",
    "from util import (get_wave_number, \n",
    "                  get_initial_guess, \n",
    "                  get_setup, \n",
    "                  get_accuracy, \n",
    "                  get_species,\n",
    "                  write_input_data,\n",
    "                  read_disp_data,\n",
    "                 )\n",
    "import subprocess\n",
    "\n",
    "mpl.rcParams['axes.labelsize'] = 20\n",
    "mpl.rcParams['xtick.labelsize'] = 16\n",
    "mpl.rcParams['ytick.labelsize'] = 16\n",
    "mpl.rcParams['axes.titlesize'] = 20\n",
    "mpl.rcParams['xtick.top'] = True\n",
    "mpl.rcParams['ytick.right'] = True\n",
    "mpl.rcParams['xtick.major.size'] = 6\n",
    "mpl.rcParams['ytick.major.size'] = 6\n",
    "mpl.rcParams['xtick.minor.size'] = 3.5\n",
    "mpl.rcParams['ytick.minor.size'] = 3.5\n",
    "mpl.rcParams['xtick.major.width'] = 1.1\n",
    "mpl.rcParams['ytick.major.width'] = 1.1\n",
    "mpl.rcParams['xtick.minor.width'] = .8\n",
    "mpl.rcParams['ytick.minor.width'] = .8\n",
    "mpl.rcParams['legend.fontsize'] = 14\n",
    "#xtick.major.size     : 3.5      # major tick size in points\n",
    "#xtick.minor.size     : 2      # minor tick size in points\n",
    "#xtick.major.width    : 0.8    # major tick width in points\n",
    "#xtick.minor.width    : 0.6    # minor tick width in points\n",
    "%matplotlib inline\n",
    "\n",
    "%load_ext autoreload\n",
    "%autoreload 2\n",
    "%matplotlib inline"
   ]
  },
  {
   "cell_type": "markdown",
   "metadata": {},
   "source": [
    "# Verify Alfven wave dispersion in hydrogen plasma\n",
    "$k$ is normalized by $kd_i = kv_A/\\Omega_i = k\\rho_i / \\sqrt{\\beta_i}$"
   ]
  },
  {
   "cell_type": "code",
   "execution_count": 18,
   "metadata": {},
   "outputs": [],
   "source": [
    "kstart = .1\n",
    "kend = .15\n",
    "nk = 5\n",
    "nspecies = 2\n",
    "theta = 80\n",
    "q_in = [1., -1.]\n",
    "mu_in = [1., 1836.]\n",
    "dens_in = [1., 1.]\n",
    "drift_in = [0., 0.]\n",
    "beta_para_in = [.01, .01]\n",
    "beta_perp_in = [.01, .01]\n",
    "kappa_in = [7, 8]\n",
    "delta = 1e-4 # v_A/c\n",
    "\n",
    "omega_r = kstart * np.cos(np.deg2rad(theta))\n",
    "omega_i = 0\n",
    "increment_r = 1e-5\n",
    "increment_i = 1e-5\n",
    "\n",
    "input_file_text = ''\n",
    "input_file_text += get_wave_number(kstart, kend, nk)\n",
    "input_file_text += get_initial_guess(omega_r=omega_r, \n",
    "                                     omega_i=omega_i, \n",
    "                                     increment_r=increment_r, \n",
    "                                     increment_i=increment_i\n",
    "                                    )\n",
    "input_file_text += get_setup(nspecies=nspecies, theta=theta, delta=delta)\n",
    "input_file_text += get_accuracy()\n",
    "\n",
    "for j in range(len(q_in)):\n",
    "    input_file_text += get_species(\n",
    "        q_in=q_in[j],\n",
    "        mu_in=mu_in[j],\n",
    "        dens_in=dens_in[j],\n",
    "        drift_in=drift_in[j],\n",
    "        beta_para_in=beta_para_in[j],\n",
    "        beta_perp_in=beta_perp_in[j],\n",
    "        kappa_in=kappa_in[j],\n",
    "    )"
   ]
  },
  {
   "cell_type": "code",
   "execution_count": 19,
   "metadata": {},
   "outputs": [],
   "source": [
    "write_input_data(input_file_text)"
   ]
  },
  {
   "cell_type": "code",
   "execution_count": 20,
   "metadata": {},
   "outputs": [
    {
     "data": {
      "text/plain": [
       "CompletedProcess(args=['./dsolve'], returncode=0)"
      ]
     },
     "execution_count": 20,
     "metadata": {},
     "output_type": "execute_result"
    }
   ],
   "source": [
    "subprocess.run([\"./dsolve\"])"
   ]
  },
  {
   "cell_type": "code",
   "execution_count": 21,
   "metadata": {},
   "outputs": [],
   "source": [
    "disp = read_disp_data()"
   ]
  },
  {
   "cell_type": "code",
   "execution_count": 22,
   "metadata": {},
   "outputs": [
    {
     "data": {
      "image/png": "[encoded data removed]",
      "text/plain": [
       "<Figure size 432x288 with 1 Axes>"
      ]
     },
     "metadata": {},
     "output_type": "display_data"
    }
   ],
   "source": [
    "plt.plot(disp.k, disp.wr, '.')\n",
    "plt.plot(disp.k, disp.wi)\n",
    "plt.show()"
   ]
  },
  {
   "cell_type": "code",
   "execution_count": 23,
   "metadata": {},
   "outputs": [
    {
     "data": {
      "text/html": [
       "<div>\n",
       "<style scoped>\n",
       "    .dataframe tbody tr th:only-of-type {\n",
       "        vertical-align: middle;\n",
       "    }\n",
       "\n",
       "    .dataframe tbody tr th {\n",
       "        vertical-align: top;\n",
       "    }\n",
       "\n",
       "    .dataframe thead th {\n",
       "        text-align: right;\n",
       "    }\n",
       "</style>\n",
       "<table border=\"1\" class=\"dataframe\">\n",
       "  <thead>\n",
       "    <tr style=\"text-align: right;\">\n",
       "      <th></th>\n",
       "      <th>k</th>\n",
       "      <th>wr</th>\n",
       "      <th>wi</th>\n",
       "    </tr>\n",
       "  </thead>\n",
       "  <tbody>\n",
       "    <tr>\n",
       "      <th>0</th>\n",
       "      <td>0.10</td>\n",
       "      <td>0.017358</td>\n",
       "      <td>-1.706212e-07</td>\n",
       "    </tr>\n",
       "    <tr>\n",
       "      <th>1</th>\n",
       "      <td>0.11</td>\n",
       "      <td>0.019093</td>\n",
       "      <td>-2.270816e-07</td>\n",
       "    </tr>\n",
       "    <tr>\n",
       "      <th>2</th>\n",
       "      <td>0.12</td>\n",
       "      <td>0.020829</td>\n",
       "      <td>-2.947920e-07</td>\n",
       "    </tr>\n",
       "    <tr>\n",
       "      <th>3</th>\n",
       "      <td>0.13</td>\n",
       "      <td>0.022564</td>\n",
       "      <td>-3.747721e-07</td>\n",
       "    </tr>\n",
       "    <tr>\n",
       "      <th>4</th>\n",
       "      <td>0.14</td>\n",
       "      <td>0.024299</td>\n",
       "      <td>-4.680410e-07</td>\n",
       "    </tr>\n",
       "  </tbody>\n",
       "</table>\n",
       "</div>"
      ],
      "text/plain": [
       "      k        wr            wi\n",
       "0  0.10  0.017358 -1.706212e-07\n",
       "1  0.11  0.019093 -2.270816e-07\n",
       "2  0.12  0.020829 -2.947920e-07\n",
       "3  0.13  0.022564 -3.747721e-07\n",
       "4  0.14  0.024299 -4.680410e-07"
      ]
     },
     "execution_count": 23,
     "metadata": {},
     "output_type": "execute_result"
    }
   ],
   "source": [
    "disp"
   ]
  },
  {
   "cell_type": "markdown",
   "metadata": {},
   "source": [
    "# Verify Doppler shift trick works on Maxwellian distribution"
   ]
  },
  {
   "cell_type": "code",
   "execution_count": 114,
   "metadata": {},
   "outputs": [],
   "source": [
    "kstart = .1\n",
    "kend = .1\n",
    "nk = 1\n",
    "nspecies = 2\n",
    "theta = 60\n",
    "q_in = [1., -1.]\n",
    "mu_in = [1., 1836.]\n",
    "dens_in = [1., 1.]\n",
    "drift_in = [0., 0.]\n",
    "beta_para_in = [.01, .01]\n",
    "beta_perp_in = [.01, .01]\n",
    "kappa_in = [50, 50]\n",
    "delta = 1e-4 # v_A/c\n",
    "\n",
    "omega_r = kstart * np.cos(np.deg2rad(theta)) * (1 + drift_in[0])\n",
    "omega_i = 0\n",
    "increment_r = 1e-5\n",
    "increment_i = 1e-5\n",
    "\n",
    "input_file_text = ''\n",
    "input_file_text += get_wave_number(kstart, kend, nk)\n",
    "input_file_text += get_initial_guess(omega_r=omega_r, \n",
    "                                     omega_i=omega_i, \n",
    "                                     increment_r=increment_r, \n",
    "                                     increment_i=increment_i\n",
    "                                    )\n",
    "input_file_text += get_setup(nspecies=nspecies, theta=theta, delta=delta)\n",
    "input_file_text += get_accuracy()\n",
    "\n",
    "for j in range(len(q_in)):\n",
    "    input_file_text += get_species(\n",
    "        q_in=q_in[j],\n",
    "        mu_in=mu_in[j],\n",
    "        dens_in=dens_in[j],\n",
    "        drift_in=drift_in[j],\n",
    "        beta_para_in=beta_para_in[j],\n",
    "        beta_perp_in=beta_perp_in[j],\n",
    "        kappa_in=kappa_in[j],\n",
    "    )"
   ]
  },
  {
   "cell_type": "code",
   "execution_count": 115,
   "metadata": {},
   "outputs": [],
   "source": [
    "write_input_data(input_file_text)\n",
    "subprocess.run([\"./dsolve\"])\n",
    "disp = read_disp_data()"
   ]
  },
  {
   "cell_type": "code",
   "execution_count": 116,
   "metadata": {},
   "outputs": [
    {
     "data": {
      "text/html": [
       "<div>\n",
       "<style scoped>\n",
       "    .dataframe tbody tr th:only-of-type {\n",
       "        vertical-align: middle;\n",
       "    }\n",
       "\n",
       "    .dataframe tbody tr th {\n",
       "        vertical-align: top;\n",
       "    }\n",
       "\n",
       "    .dataframe thead th {\n",
       "        text-align: right;\n",
       "    }\n",
       "</style>\n",
       "<table border=\"1\" class=\"dataframe\">\n",
       "  <thead>\n",
       "    <tr style=\"text-align: right;\">\n",
       "      <th></th>\n",
       "      <th>k</th>\n",
       "      <th>wr</th>\n",
       "      <th>wi</th>\n",
       "    </tr>\n",
       "  </thead>\n",
       "  <tbody>\n",
       "    <tr>\n",
       "      <th>0</th>\n",
       "      <td>0.1</td>\n",
       "      <td>0.049906</td>\n",
       "      <td>-4.257827e-07</td>\n",
       "    </tr>\n",
       "  </tbody>\n",
       "</table>\n",
       "</div>"
      ],
      "text/plain": [
       "     k        wr            wi\n",
       "0  0.1  0.049906 -4.257827e-07"
      ]
     },
     "execution_count": 116,
     "metadata": {},
     "output_type": "execute_result"
    }
   ],
   "source": [
    "disp"
   ]
  },
  {
   "cell_type": "code",
   "execution_count": 118,
   "metadata": {},
   "outputs": [
    {
     "data": {
      "text/html": [
       "<div>\n",
       "<style scoped>\n",
       "    .dataframe tbody tr th:only-of-type {\n",
       "        vertical-align: middle;\n",
       "    }\n",
       "\n",
       "    .dataframe tbody tr th {\n",
       "        vertical-align: top;\n",
       "    }\n",
       "\n",
       "    .dataframe thead th {\n",
       "        text-align: right;\n",
       "    }\n",
       "</style>\n",
       "<table border=\"1\" class=\"dataframe\">\n",
       "  <thead>\n",
       "    <tr style=\"text-align: right;\">\n",
       "      <th></th>\n",
       "      <th>k</th>\n",
       "      <th>wr</th>\n",
       "      <th>wi</th>\n",
       "    </tr>\n",
       "  </thead>\n",
       "  <tbody>\n",
       "    <tr>\n",
       "      <th>0</th>\n",
       "      <td>0.1</td>\n",
       "      <td>0.199906</td>\n",
       "      <td>-4.257826e-07</td>\n",
       "    </tr>\n",
       "  </tbody>\n",
       "</table>\n",
       "</div>"
      ],
      "text/plain": [
       "     k        wr            wi\n",
       "0  0.1  0.199906 -4.257826e-07"
      ]
     },
     "execution_count": 118,
     "metadata": {},
     "output_type": "execute_result"
    }
   ],
   "source": [
    "kstart = .1\n",
    "kend = .1\n",
    "nk = 1\n",
    "nspecies = 2\n",
    "theta = 60\n",
    "q_in = [1., -1.]\n",
    "mu_in = [1., 1836.]\n",
    "dens_in = [1., 1.]\n",
    "drift_in = [3., 3.]\n",
    "beta_para_in = [.01, .01]\n",
    "beta_perp_in = [.01, .01]\n",
    "kappa_in = [50, 50]\n",
    "delta = 1e-4 # v_A/c\n",
    "\n",
    "omega_r = kstart * np.cos(np.deg2rad(theta)) * (1 + drift_in[0])\n",
    "omega_i = 0\n",
    "increment_r = 1e-5\n",
    "increment_i = 1e-5\n",
    "\n",
    "input_file_text = ''\n",
    "input_file_text += get_wave_number(kstart, kend, nk)\n",
    "input_file_text += get_initial_guess(omega_r=omega_r, \n",
    "                                     omega_i=omega_i, \n",
    "                                     increment_r=increment_r, \n",
    "                                     increment_i=increment_i\n",
    "                                    )\n",
    "input_file_text += get_setup(nspecies=nspecies, theta=theta, delta=delta)\n",
    "input_file_text += get_accuracy()\n",
    "\n",
    "for j in range(len(q_in)):\n",
    "    input_file_text += get_species(\n",
    "        q_in=q_in[j],\n",
    "        mu_in=mu_in[j],\n",
    "        dens_in=dens_in[j],\n",
    "        drift_in=drift_in[j],\n",
    "        beta_para_in=beta_para_in[j],\n",
    "        beta_perp_in=beta_perp_in[j],\n",
    "        kappa_in=kappa_in[j],\n",
    "    )\n",
    "    \n",
    "write_input_data(input_file_text)\n",
    "subprocess.run([\"./dsolve\"])\n",
    "disp = read_disp_data()\n",
    "\n",
    "disp"
   ]
  },
  {
   "cell_type": "markdown",
   "metadata": {},
   "source": [
    "# Verify core-halo drift electrons consistent with previous result"
   ]
  },
  {
   "cell_type": "code",
   "execution_count": 11,
   "metadata": {},
   "outputs": [],
   "source": [
    "from py_vlasov.util import zp, kzkp, list_to_complex, real_imag\n",
    "from py_vlasov.wrapper import oblique_wrapper, disp_det, input_gen\n",
    "from py_vlasov.transport_ratios import transport_ratios\n",
    "from py_vlasov.follow_parameter import follow_k\n",
    "\n",
    "def generate_k_arr(start_k, target_k, log_incrmt = None, lin_incrmt = None):\n",
    "    assert log_incrmt or lin_incrmt\n",
    "    if log_incrmt:\n",
    "        n = int(np.log(target_k/start_k) / np.log(1 + log_incrmt))\n",
    "        ret = np.arange(n + 1) * np.log(1 + log_incrmt)\n",
    "        return np.exp(ret)  * start_k\n",
    "    else:\n",
    "        n = (target_k - start_k) / lin_incrmt\n",
    "        if n - int(n) > 1 - 1e-5:\n",
    "            n = int(n) + 1\n",
    "        return start_k + np.arange(n + 1) * lin_incrmt"
   ]
  },
  {
   "cell_type": "code",
   "execution_count": 17,
   "metadata": {},
   "outputs": [
    {
     "name": "stdout",
     "output_type": "stream",
     "text": [
      "aol =  0.0001\n",
      "vh_va = -47.5\n"
     ]
    }
   ],
   "source": [
    "aol = np.sqrt(1e-8)\n",
    "print('aol = ', aol)\n",
    "tc_tp = 2\n",
    "th_tc = 6\n",
    "nc_np = 0.95\n",
    "nh_np = 1 - nc_np\n",
    "vc_va = 2.5\n",
    "vh_va = -vc_va * nc_np / nh_np\n",
    "print('vh_va = {0:.3g}'.format(vh_va))\n",
    "\n",
    "betap = .25\n",
    "theta = 80\n",
    "\n",
    "\n",
    "t_list=[1., tc_tp, th_tc * tc_tp]\n",
    "a_list=[1., 1., 1.]\n",
    "n_list=[1., nc_np, nh_np] \n",
    "q_list=[1.,-1., -1.]\n",
    "m_list=[1., 1./1836., 1./1836]\n",
    "v_list=[0., vc_va, vh_va]\n",
    "n = 6\n",
    "method = 'numpy'\n",
    "\n",
    "k = 0.1\n",
    "\n",
    "target_k = 3."
   ]
  },
  {
   "cell_type": "code",
   "execution_count": 18,
   "metadata": {},
   "outputs": [],
   "source": [
    "kz, kp = kzkp(k, theta)\n",
    "seed_freq = kz / np.sqrt(betap)\n",
    "\n",
    "param = [kz, kp, betap, t_list, a_list, n_list, q_list,\n",
    "         m_list, v_list, n, method, aol]\n",
    "\n",
    "guess = seed_freq\n",
    "\n",
    "freq = follow_k(guess, target_k, param,\n",
    "                lin_incrmt = 0.02, incrmt_method = 'linear')  "
   ]
  },
  {
   "cell_type": "code",
   "execution_count": 19,
   "metadata": {},
   "outputs": [],
   "source": [
    "k_arr = generate_k_arr(k, target_k, lin_incrmt=0.02)\n",
    "wrel = np.array(freq[-1])"
   ]
  },
  {
   "cell_type": "code",
   "execution_count": 20,
   "metadata": {},
   "outputs": [
    {
     "data": {
      "text/plain": [
       "(0.8874770256513526-0.9381309617876353j)"
      ]
     },
     "execution_count": 20,
     "metadata": {},
     "output_type": "execute_result"
    }
   ],
   "source": [
    "wrel[-1]"
   ]
  },
  {
   "cell_type": "code",
   "execution_count": 21,
   "metadata": {},
   "outputs": [
    {
     "data": {
      "image/png": "[encoded data removed]",
      "text/plain": [
       "<Figure size 432x432 with 2 Axes>"
      ]
     },
     "metadata": {},
     "output_type": "display_data"
    }
   ],
   "source": [
    "plt.figure(figsize=[6, 6])\n",
    "plt.subplot(211)\n",
    "plt.plot(k_arr, wrel.real)\n",
    "plt.subplot(212)\n",
    "plt.plot(k_arr, wrel.imag)\n",
    "plt.ylim([0, .01])\n",
    "plt.show()"
   ]
  },
  {
   "cell_type": "markdown",
   "metadata": {},
   "source": [
    "### dshark"
   ]
  },
  {
   "cell_type": "code",
   "execution_count": 28,
   "metadata": {},
   "outputs": [],
   "source": [
    "kstart = .1 / np.sqrt(betap)\n",
    "kend = 3. / np.sqrt(betap)\n",
    "nk = 90\n",
    "nspecies = 3\n",
    "theta = 80\n",
    "q_in = np.array([1., -1., -1.])\n",
    "mu_in = np.array([1., 1836., 1836.])\n",
    "dens_in = np.array([1., .95, .05])\n",
    "vdc_va = 2.5\n",
    "drift_in = np.array([0., vdc_va, -dens_in[1]/dens_in[2]*vdc_va])\n",
    "beta = .25\n",
    "t_in = np.array([1, 2, 12])\n",
    "beta_para_in = beta * t_in * dens_in\n",
    "beta_perp_in = beta * t_in * dens_in\n",
    "kappa_in = np.array([100, 100, 8])\n",
    "delta = 1e-4 # v_A/c\n",
    "\n",
    "omega_r = kstart * np.cos(np.deg2rad(theta)) * (1 + drift_in[0])\n",
    "omega_i = -1e-6\n",
    "increment_r = 0 # (kend - kstart) / nk * np.cos(np.deg2rad(theta))\n",
    "increment_i = 0\n",
    "\n",
    "input_file_text = ''\n",
    "input_file_text += get_wave_number(kstart, kend, nk)\n",
    "input_file_text += get_initial_guess(omega_r=omega_r, \n",
    "                                     omega_i=omega_i, \n",
    "                                     increment_r=increment_r, \n",
    "                                     increment_i=increment_i\n",
    "                                    )\n",
    "input_file_text += get_setup(nspecies=nspecies, theta=theta, delta=delta)\n",
    "input_file_text += get_accuracy(rf_error=1e-4, eps_error=1e-6)\n",
    "\n",
    "for j in range(len(q_in)):\n",
    "    input_file_text += get_species(\n",
    "        q_in=q_in[j],\n",
    "        mu_in=mu_in[j],\n",
    "        dens_in=dens_in[j],\n",
    "        drift_in=drift_in[j],\n",
    "        beta_para_in=beta_para_in[j],\n",
    "        beta_perp_in=beta_perp_in[j],\n",
    "        kappa_in=kappa_in[j],\n",
    "    )\n",
    "    \n",
    "write_input_data(input_file_text)\n",
    "subprocess.run([\"./dsolve\"])\n",
    "disp = read_disp_data()"
   ]
  },
  {
   "cell_type": "code",
   "execution_count": 29,
   "metadata": {},
   "outputs": [
    {
     "data": {
      "image/png": "[encoded data removed]",
      "text/plain": [
       "<Figure size 432x576 with 2 Axes>"
      ]
     },
     "metadata": {},
     "output_type": "display_data"
    }
   ],
   "source": [
    "plt.figure(figsize=[6, 8])\n",
    "\n",
    "plt.subplot(211)\n",
    "plt.plot(k_arr / np.sqrt(beta), wrel.real, 'b', label='whamp')\n",
    "plt.plot(disp.k , disp.wr, 'r', label='dshark')\n",
    "plt.ylim([-.1, 1])\n",
    "plt.xlim([0, 6])\n",
    "plt.ylim([0, 1])\n",
    "plt.ylabel(r'$\\omega_r / \\Omega_i$')\n",
    "plt.legend(loc='upper left')\n",
    "\n",
    "plt.subplot(212)\n",
    "plt.plot(k_arr / np.sqrt(beta), wrel.imag, 'b')\n",
    "plt.plot(disp.k, disp.wi, 'r')\n",
    "plt.ylim([-1e-2, 1e-2])\n",
    "plt.xlim([0, 6])\n",
    "plt.ylabel(r'$\\gamma / \\Omega_i$')\n",
    "plt.xlabel(r'$kd_i$')\n",
    "plt.tight_layout()\n",
    "# plt.savefig('alfven_wave_large_k.png', dpi=100)"
   ]
  },
  {
   "cell_type": "code",
   "execution_count": 36,
   "metadata": {},
   "outputs": [
    {
     "data": {
      "text/html": [
       "<div>\n",
       "<style scoped>\n",
       "    .dataframe tbody tr th:only-of-type {\n",
       "        vertical-align: middle;\n",
       "    }\n",
       "\n",
       "    .dataframe tbody tr th {\n",
       "        vertical-align: top;\n",
       "    }\n",
       "\n",
       "    .dataframe thead th {\n",
       "        text-align: right;\n",
       "    }\n",
       "</style>\n",
       "<table border=\"1\" class=\"dataframe\">\n",
       "  <thead>\n",
       "    <tr style=\"text-align: right;\">\n",
       "      <th></th>\n",
       "      <th>k</th>\n",
       "      <th>wr</th>\n",
       "      <th>wi</th>\n",
       "    </tr>\n",
       "  </thead>\n",
       "  <tbody>\n",
       "    <tr>\n",
       "      <th>0</th>\n",
       "      <td>0.200</td>\n",
       "      <td>0.035289</td>\n",
       "      <td>-0.000086</td>\n",
       "    </tr>\n",
       "    <tr>\n",
       "      <th>1</th>\n",
       "      <td>0.236</td>\n",
       "      <td>0.042331</td>\n",
       "      <td>-0.000129</td>\n",
       "    </tr>\n",
       "    <tr>\n",
       "      <th>2</th>\n",
       "      <td>0.272</td>\n",
       "      <td>0.049651</td>\n",
       "      <td>-0.000180</td>\n",
       "    </tr>\n",
       "    <tr>\n",
       "      <th>3</th>\n",
       "      <td>0.308</td>\n",
       "      <td>0.057259</td>\n",
       "      <td>-0.000239</td>\n",
       "    </tr>\n",
       "    <tr>\n",
       "      <th>4</th>\n",
       "      <td>0.344</td>\n",
       "      <td>0.065160</td>\n",
       "      <td>-0.000304</td>\n",
       "    </tr>\n",
       "    <tr>\n",
       "      <th>5</th>\n",
       "      <td>0.380</td>\n",
       "      <td>0.073355</td>\n",
       "      <td>-0.000376</td>\n",
       "    </tr>\n",
       "    <tr>\n",
       "      <th>6</th>\n",
       "      <td>0.416</td>\n",
       "      <td>0.081843</td>\n",
       "      <td>-0.000453</td>\n",
       "    </tr>\n",
       "    <tr>\n",
       "      <th>7</th>\n",
       "      <td>0.452</td>\n",
       "      <td>0.090619</td>\n",
       "      <td>-0.000536</td>\n",
       "    </tr>\n",
       "    <tr>\n",
       "      <th>8</th>\n",
       "      <td>0.488</td>\n",
       "      <td>0.099681</td>\n",
       "      <td>-0.000624</td>\n",
       "    </tr>\n",
       "    <tr>\n",
       "      <th>9</th>\n",
       "      <td>0.524</td>\n",
       "      <td>0.109022</td>\n",
       "      <td>-0.000718</td>\n",
       "    </tr>\n",
       "  </tbody>\n",
       "</table>\n",
       "</div>"
      ],
      "text/plain": [
       "       k        wr        wi\n",
       "0  0.200  0.035289 -0.000086\n",
       "1  0.236  0.042331 -0.000129\n",
       "2  0.272  0.049651 -0.000180\n",
       "3  0.308  0.057259 -0.000239\n",
       "4  0.344  0.065160 -0.000304\n",
       "5  0.380  0.073355 -0.000376\n",
       "6  0.416  0.081843 -0.000453\n",
       "7  0.452  0.090619 -0.000536\n",
       "8  0.488  0.099681 -0.000624\n",
       "9  0.524  0.109022 -0.000718"
      ]
     },
     "execution_count": 36,
     "metadata": {},
     "output_type": "execute_result"
    }
   ],
   "source": [
    "disp.head(10)"
   ]
  },
  {
   "cell_type": "markdown",
   "metadata": {},
   "source": [
    "# Verify kappa drift can be handled by Doppler shift trick"
   ]
  },
  {
   "cell_type": "code",
   "execution_count": 30,
   "metadata": {},
   "outputs": [],
   "source": [
    "kstart = .1 / np.sqrt(betap)\n",
    "kend = .5 / np.sqrt(betap)\n",
    "nk = 50\n",
    "nspecies = 3\n",
    "theta = 80\n",
    "q_in = np.array([1., -1., -1.])\n",
    "mu_in = np.array([1., 1836., 1836.])\n",
    "dens_in = np.array([1., .95, .05])\n",
    "vdc_va = 2.5\n",
    "vdh_va = -dens_in[1]/dens_in[2]*vdc_va\n",
    "drift_in = np.array([-vdh_va, vdc_va-vdh_va, 0])\n",
    "beta = .25\n",
    "t_in = np.array([1, 2, 12])\n",
    "beta_para_in = beta * t_in * dens_in\n",
    "beta_perp_in = beta * t_in * dens_in\n",
    "kappa_in = np.array([100, 100, 100])\n",
    "delta = 1e-4 # v_A/c\n",
    "\n",
    "omega_r = kstart * np.cos(np.deg2rad(theta)) * (1 + drift_in[0])\n",
    "omega_i = -1e-6\n",
    "increment_r = 0 # (kend - kstart) / nk * np.cos(np.deg2rad(theta))\n",
    "increment_i = 0\n",
    "\n",
    "input_file_text = ''\n",
    "input_file_text += get_wave_number(kstart, kend, nk)\n",
    "input_file_text += get_initial_guess(omega_r=omega_r, \n",
    "                                     omega_i=omega_i, \n",
    "                                     increment_r=increment_r, \n",
    "                                     increment_i=increment_i\n",
    "                                    )\n",
    "input_file_text += get_setup(nspecies=nspecies, theta=theta, delta=delta)\n",
    "input_file_text += get_accuracy(rf_error=1e-4, eps_error=1e-6)\n",
    "\n",
    "for j in range(len(q_in)):\n",
    "    input_file_text += get_species(\n",
    "        q_in=q_in[j],\n",
    "        mu_in=mu_in[j],\n",
    "        dens_in=dens_in[j],\n",
    "        drift_in=drift_in[j],\n",
    "        beta_para_in=beta_para_in[j],\n",
    "        beta_perp_in=beta_perp_in[j],\n",
    "        kappa_in=kappa_in[j],\n",
    "    )\n",
    "    \n",
    "write_input_data(input_file_text)\n",
    "subprocess.run([\"./dsolve\"])\n",
    "disp = read_disp_data()\n",
    "disp.wr = disp.wr - disp.k * np.cos(np.deg2rad(theta)) * drift_in[0]"
   ]
  },
  {
   "cell_type": "code",
   "execution_count": 31,
   "metadata": {},
   "outputs": [
    {
     "data": {
      "image/png": "[encoded data removed]",
      "text/plain": [
       "<Figure size 432x576 with 2 Axes>"
      ]
     },
     "metadata": {},
     "output_type": "display_data"
    }
   ],
   "source": [
    "plt.figure(figsize=[6, 8])\n",
    "\n",
    "plt.subplot(211)\n",
    "plt.plot(k_arr / np.sqrt(beta), wrel.real, 'b', label='whamp')\n",
    "plt.plot(disp.k , disp.wr, 'r', label='dshark')\n",
    "plt.ylim([-.1, 1])\n",
    "plt.xlim([0, 6])\n",
    "plt.ylim([0, 1])\n",
    "plt.ylabel(r'$\\omega_r / \\Omega_i$')\n",
    "plt.legend(loc='upper left')\n",
    "\n",
    "plt.subplot(212)\n",
    "plt.plot(k_arr / np.sqrt(beta), wrel.imag, 'b')\n",
    "plt.plot(disp.k, disp.wi, 'r')\n",
    "plt.ylim([-1e-2, 1e-2])\n",
    "plt.xlim([0, 6])\n",
    "plt.ylabel(r'$\\gamma / \\Omega_i$')\n",
    "plt.xlabel(r'$kd_i$')\n",
    "plt.tight_layout()\n",
    "# plt.savefig('alfven_wave_large_k.png', dpi=100)"
   ]
  },
  {
   "cell_type": "markdown",
   "metadata": {},
   "source": [
    "# Verify the kappa-dshark obtain result invariant of reference frame"
   ]
  },
  {
   "cell_type": "code",
   "execution_count": 2,
   "metadata": {},
   "outputs": [],
   "source": [
    "kstart = .1\n",
    "kend = 5.\n",
    "nk = 150\n",
    "nspecies = 2\n",
    "theta = 80\n",
    "q_in = [1., -1.]\n",
    "mu_in = [1., 1836.]\n",
    "dens_in = [1., 1.]\n",
    "drift_in = [0., 0.]\n",
    "beta_para_in = [.01, .01]\n",
    "beta_perp_in = [.01, .01]\n",
    "kappa_in = [50, 8]\n",
    "delta = 1e-4 # v_A/c\n",
    "\n",
    "omega_r = kstart * np.cos(np.deg2rad(theta))\n",
    "omega_i = 0\n",
    "increment_r = 1e-5\n",
    "increment_i = 1e-5\n",
    "\n",
    "input_file_text = ''\n",
    "input_file_text += get_wave_number(kstart, kend, nk)\n",
    "input_file_text += get_initial_guess(omega_r=omega_r, \n",
    "                                     omega_i=omega_i, \n",
    "                                     increment_r=increment_r, \n",
    "                                     increment_i=increment_i\n",
    "                                    )\n",
    "input_file_text += get_setup(nspecies=nspecies, theta=theta, delta=delta)\n",
    "input_file_text += get_accuracy()\n",
    "\n",
    "for j in range(len(q_in)):\n",
    "    input_file_text += get_species(\n",
    "        q_in=q_in[j],\n",
    "        mu_in=mu_in[j],\n",
    "        dens_in=dens_in[j],\n",
    "        drift_in=drift_in[j],\n",
    "        beta_para_in=beta_para_in[j],\n",
    "        beta_perp_in=beta_perp_in[j],\n",
    "        kappa_in=kappa_in[j],\n",
    "    )\n",
    "    \n",
    "write_input_data(input_file_text)\n",
    "subprocess.run([\"./dsolve\"])\n",
    "disp_no_drift = read_disp_data()"
   ]
  },
  {
   "cell_type": "code",
   "execution_count": 5,
   "metadata": {},
   "outputs": [],
   "source": [
    "kstart = .1\n",
    "kend = 5.\n",
    "nk = 150\n",
    "nspecies = 2\n",
    "theta = 80\n",
    "q_in = [1., -1.]\n",
    "mu_in = [1., 1836.]\n",
    "dens_in = [1., 1.]\n",
    "drift_in = [1., 1.]\n",
    "beta_para_in = [.01, .01]\n",
    "beta_perp_in = [.01, .01]\n",
    "kappa_in = [50, 8]\n",
    "delta = 1e-4 # v_A/c\n",
    "\n",
    "omega_r = kstart * np.cos(np.deg2rad(theta)) * (1 + drift_in[0])\n",
    "omega_i = 0\n",
    "increment_r = 1e-5\n",
    "increment_i = 1e-5\n",
    "\n",
    "input_file_text = ''\n",
    "input_file_text += get_wave_number(kstart, kend, nk)\n",
    "input_file_text += get_initial_guess(omega_r=omega_r, \n",
    "                                     omega_i=omega_i, \n",
    "                                     increment_r=increment_r, \n",
    "                                     increment_i=increment_i\n",
    "                                    )\n",
    "input_file_text += get_setup(nspecies=nspecies, theta=theta, delta=delta)\n",
    "input_file_text += get_accuracy()\n",
    "\n",
    "for j in range(len(q_in)):\n",
    "    input_file_text += get_species(\n",
    "        q_in=q_in[j],\n",
    "        mu_in=mu_in[j],\n",
    "        dens_in=dens_in[j],\n",
    "        drift_in=drift_in[j],\n",
    "        beta_para_in=beta_para_in[j],\n",
    "        beta_perp_in=beta_perp_in[j],\n",
    "        kappa_in=kappa_in[j],\n",
    "    )\n",
    "    \n",
    "write_input_data(input_file_text)\n",
    "subprocess.run([\"./dsolve\"])\n",
    "disp_drift = read_disp_data()\n",
    "# disp_drift['wr'] = disp_drift.wr - disp_drift.k * np.cos(np.deg2rad(theta)) * drift_in[0]"
   ]
  },
  {
   "cell_type": "code",
   "execution_count": 10,
   "metadata": {},
   "outputs": [
    {
     "data": {
      "image/png": "[encoded data removed]",
      "text/plain": [
       "<Figure size 432x576 with 2 Axes>"
      ]
     },
     "metadata": {},
     "output_type": "display_data"
    }
   ],
   "source": [
    "plt.figure(figsize=[6, 8])\n",
    "\n",
    "plt.subplot(211)\n",
    "plt.plot(disp_no_drift.k , disp_no_drift.wr, 'r', label='no drift')\n",
    "plt.plot(disp_drift.k , disp_drift.wr, 'b', label='drift')\n",
    "shift_wr = disp_drift.wr - disp_drift.k * np.cos(np.deg2rad(theta)) * drift_in[0]\n",
    "plt.plot(disp_drift.k, shift_wr, 'b--', label='drift-shifted', lw=2)\n",
    "plt.ylim([-.1, 1])\n",
    "plt.xlim([0, 6])\n",
    "plt.ylim([0, 1])\n",
    "plt.ylabel(r'$\\omega_r / \\Omega_i$')\n",
    "plt.legend(loc='upper left')\n",
    "\n",
    "plt.subplot(212)\n",
    "plt.plot(disp_no_drift.k , disp_no_drift.wi, 'r', label='no drift')\n",
    "plt.plot(disp_drift.k , disp_drift.wi, 'b--', label='drift', lw=2)\n",
    "# plt.ylim([-1e-2, 1e-2])\n",
    "plt.xlim([0, 6])\n",
    "plt.ylabel(r'$\\gamma / \\Omega_i$')\n",
    "plt.xlabel(r'$kd_i$')\n",
    "plt.tight_layout()"
   ]
  },
  {
   "cell_type": "code",
   "execution_count": null,
   "metadata": {},
   "outputs": [],
   "source": []
  }
 ],
 "metadata": {
  "kernelspec": {
   "display_name": "Python 3.6 (science)",
   "language": "python",
   "name": "science"
  },
  "language_info": {
   "codemirror_mode": {
    "name": "ipython",
    "version": 3
   },
   "file_extension": ".py",
   "mimetype": "text/x-python",
   "name": "python",
   "nbconvert_exporter": "python",
   "pygments_lexer": "ipython3",
   "version": "3.6.5"
  }
 },
 "nbformat": 4,
 "nbformat_minor": 2
}
