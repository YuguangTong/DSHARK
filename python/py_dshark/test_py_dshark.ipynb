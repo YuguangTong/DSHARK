{
 "cells": [
  {
   "cell_type": "code",
   "execution_count": 1,
   "metadata": {},
   "outputs": [],
   "source": [
    "import numpy as np\n",
    "import pandas as pd\n",
    "import matplotlib.pyplot as plt\n",
    "import matplotlib as mpl\n",
    "\n",
    "mpl.rcParams['axes.labelsize'] = 20\n",
    "mpl.rcParams['xtick.labelsize'] = 16\n",
    "mpl.rcParams['ytick.labelsize'] = 16\n",
    "mpl.rcParams['axes.titlesize'] = 20\n",
    "mpl.rcParams['xtick.top'] = True\n",
    "mpl.rcParams['ytick.right'] = True\n",
    "mpl.rcParams['xtick.major.size'] = 6\n",
    "mpl.rcParams['ytick.major.size'] = 6\n",
    "mpl.rcParams['xtick.minor.size'] = 3.5\n",
    "mpl.rcParams['ytick.minor.size'] = 3.5\n",
    "mpl.rcParams['xtick.major.width'] = 1.1\n",
    "mpl.rcParams['ytick.major.width'] = 1.1\n",
    "mpl.rcParams['xtick.minor.width'] = .8\n",
    "mpl.rcParams['ytick.minor.width'] = .8\n",
    "mpl.rcParams['legend.fontsize'] = 14\n",
    "#xtick.major.size     : 3.5      # major tick size in points\n",
    "#xtick.minor.size     : 2      # minor tick size in points\n",
    "#xtick.major.width    : 0.8    # major tick width in points\n",
    "#xtick.minor.width    : 0.6    # minor tick width in points\n",
    "%matplotlib inline\n",
    "\n",
    "%load_ext autoreload\n",
    "%autoreload 2\n",
    "%matplotlib inline"
   ]
  },
  {
   "cell_type": "code",
   "execution_count": 2,
   "metadata": {},
   "outputs": [],
   "source": [
    "import os\n",
    "import sys\n",
    "sys.path.insert(1, os.path.join(sys.path[0], '../../py_dshark'))"
   ]
  },
  {
   "cell_type": "code",
   "execution_count": 3,
   "metadata": {},
   "outputs": [],
   "source": [
    "import py_dshark"
   ]
  },
  {
   "cell_type": "code",
   "execution_count": 86,
   "metadata": {},
   "outputs": [
    {
     "name": "stdout",
     "output_type": "stream",
     "text": [
      "krange,solution = solve_disp(theta_in,delta_in,q_in,mu_in,dens_in,beta_para_in,beta_perp_in,kappa_in,drift_in,omega_r_in,omega_i_in,increment_r,increment_i,kstart,kend,nk,[nspecies_in,rf_error_in,eps_error_in])\n",
      "\n",
      "Wrapper for ``solve_disp``.\n",
      "\n",
      "Parameters\n",
      "----------\n",
      "theta_in : input float\n",
      "delta_in : input float\n",
      "q_in : input rank-1 array('d') with bounds (nspecies_in)\n",
      "mu_in : input rank-1 array('d') with bounds (nspecies_in)\n",
      "dens_in : input rank-1 array('d') with bounds (nspecies_in)\n",
      "beta_para_in : input rank-1 array('d') with bounds (nspecies_in)\n",
      "beta_perp_in : input rank-1 array('d') with bounds (nspecies_in)\n",
      "kappa_in : input rank-1 array('d') with bounds (nspecies_in)\n",
      "drift_in : input rank-1 array('d') with bounds (nspecies_in)\n",
      "omega_r_in : input float\n",
      "omega_i_in : input float\n",
      "increment_r : input float\n",
      "increment_i : input float\n",
      "kstart : input float\n",
      "kend : input float\n",
      "nk : input int\n",
      "\n",
      "Other Parameters\n",
      "----------------\n",
      "nspecies_in : input int, optional\n",
      "    Default: len(q_in)\n",
      "rf_error_in : input float\n",
      "eps_error_in : input float\n",
      "\n",
      "Returns\n",
      "-------\n",
      "krange : rank-1 array('d') with bounds (nk)\n",
      "solution : rank-1 array('D') with bounds (nk)\n",
      "\n"
     ]
    }
   ],
   "source": [
    "print(py_dshark.solver.solve_disp.__doc__)"
   ]
  },
  {
   "cell_type": "code",
   "execution_count": 76,
   "metadata": {},
   "outputs": [],
   "source": [
    "p = {}\n",
    "p['nspecies'] = 3\n",
    "p['q_in'] = np.array([1., -1., -1.])\n",
    "p['mu_in'] = np.array([1., 1836., 1836.])\n",
    "p['dens_in'] = np.array([1., .95, .05])\n",
    "vdc_va = 3.\n",
    "p['drift_in'] = np.array([0., vdc_va, -p['dens_in'][1]/p['dens_in'][2]* vdc_va])\n",
    "t_in = np.array([1, 2, 12])\n",
    "beta_0 = .25\n",
    "p['beta_para_in'] = beta_0 * t_in * p['dens_in']\n",
    "p['beta_perp_in'] = beta_0 * t_in * p['dens_in']\n",
    "p['kappa_in'] = np.array([50, 50, 8])\n",
    "p['delta_in'] = 1e-4 # v_A/c\n",
    "\n",
    "p['increment_r'] = 0\n",
    "p['increment_i'] = 0\n",
    "p['rf_error_in'] = 1e-3\n",
    "p['eps_error_in'] = 1e-3"
   ]
  },
  {
   "cell_type": "code",
   "execution_count": 77,
   "metadata": {},
   "outputs": [],
   "source": [
    "kstart = .2\n",
    "kend = 5.\n",
    "nk = 60\n",
    "theta = 80.\n",
    "omega_r = kstart * np.cos(np.deg2rad(theta) * (1 + p['drift_in'][0]))\n",
    "omega_i = 0."
   ]
  },
  {
   "cell_type": "code",
   "execution_count": 78,
   "metadata": {},
   "outputs": [],
   "source": [
    "krange, disp = py_dshark.solver.solve_disp(\n",
    "    nspecies_in = p['nspecies'],\n",
    "    q_in=p['q_in'],\n",
    "    mu_in=p['mu_in'],\n",
    "    dens_in=p['dens_in'],\n",
    "    drift_in=p['drift_in'],\n",
    "    beta_para_in=p['beta_para_in'],\n",
    "    beta_perp_in=p['beta_perp_in'],\n",
    "    kappa_in=p['kappa_in'],\n",
    "    delta_in=p['delta_in'],\n",
    "    rf_error_in=p['rf_error_in'],\n",
    "    eps_error_in=p['eps_error_in'],\n",
    "    \n",
    "    increment_r=p['increment_r'],\n",
    "    increment_i=p['increment_i'],\n",
    "\n",
    "    kstart=kstart,\n",
    "    kend=kend,\n",
    "    nk=nk,\n",
    "    theta_in=theta,\n",
    "    omega_r_in=omega_r,\n",
    "    omega_i_in=omega_i\n",
    ")"
   ]
  },
  {
   "cell_type": "code",
   "execution_count": 82,
   "metadata": {},
   "outputs": [
    {
     "data": {
      "image/png": "[encoded data removed]",
      "text/plain": [
       "<Figure size 432x576 with 2 Axes>"
      ]
     },
     "metadata": {},
     "output_type": "display_data"
    }
   ],
   "source": [
    "plt.figure(figsize=[6, 8])\n",
    "\n",
    "plt.subplot(211)\n",
    "plt.plot(krange, np.array(disp).real)\n",
    "plt.ylabel(r'$\\omega_r/\\Omega_i$')\n",
    "\n",
    "plt.subplot(212)\n",
    "plt.plot(krange, np.array(disp).imag, '.-')\n",
    "plt.ylim([-0.01, 0.01])\n",
    "plt.xlabel(r'$kd_i$')\n",
    "plt.ylabel(r'$\\omega_i/\\Omega_i$')\n",
    "plt.show()"
   ]
  },
  {
   "cell_type": "code",
   "execution_count": null,
   "metadata": {},
   "outputs": [],
   "source": []
  }
 ],
 "metadata": {
  "kernelspec": {
   "display_name": "Python 3.6 (science)",
   "language": "python",
   "name": "science"
  },
  "language_info": {
   "codemirror_mode": {
    "name": "ipython",
    "version": 3
   },
   "file_extension": ".py",
   "mimetype": "text/x-python",
   "name": "python",
   "nbconvert_exporter": "python",
   "pygments_lexer": "ipython3",
   "version": "3.6.5"
  }
 },
 "nbformat": 4,
 "nbformat_minor": 2
}
